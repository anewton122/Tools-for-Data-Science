{
 "cells": [
  {
   "cell_type": "markdown",
   "id": "05e604f7",
   "metadata": {},
   "source": [
    "# Data Science Tools and Ecosystem"
   ]
  },
  {
   "cell_type": "markdown",
   "id": "d3eca1d0",
   "metadata": {},
   "source": [
    "In this notebook, Data Science Tools and Ecosystem are summarized."
   ]
  },
  {
   "cell_type": "markdown",
   "id": "9e15652c",
   "metadata": {},
   "source": [
    "Some of the most pertinent libraries in data science include the following:\n",
    "\n",
    "1. **NumPy**: A powerful library for numerical computing that provides support for large, multi-dimensional arrays and matrices, along with mathematical functions to operate on these arrays.\n",
    "\n",
    "2. **Pandas**: A data manipulation library that offers data structures like DataFrame, Series, and tools for reading and manipulating structured data. It is widely used for data cleaning, exploration, and analysis.\n",
    "\n",
    "3. **Scikit-Learn**: A machine learning library that provides simple and efficient tools for data mining and data analysis. It includes various algorithms for classification, regression, clustering, and more.\n",
    "\n",
    "4. **Matplotlib**: A plotting library for creating static, animated, and interactive visualizations in Python. It is commonly used for data visualization in data science projects."
   ]
  },
  {
   "cell_type": "markdown",
   "id": "4e13b05f",
   "metadata": {},
   "source": [
    "| Data Science Tools      |\n",
    "|-------------------------|\n",
    "| Jupyter Notebooks       |\n",
    "| RStudio                 |\n",
    "| VSCode with Python      |"
   ]
  },
  {
   "cell_type": "markdown",
   "id": "071103dc",
   "metadata": {},
   "source": [
    "### Below are a few examples of evaluating arithmetic expressions in Python"
   ]
  },
  {
   "cell_type": "code",
   "execution_count": 2,
   "id": "6aca6716",
   "metadata": {},
   "outputs": [
    {
     "data": {
      "text/plain": [
       "17"
      ]
     },
     "execution_count": 2,
     "metadata": {},
     "output_type": "execute_result"
    }
   ],
   "source": [
    "#This is a simple arithmetic expression to multiply then add integers\n",
    "(3*4)+5"
   ]
  },
  {
   "cell_type": "code",
   "execution_count": 4,
   "id": "e504c641",
   "metadata": {},
   "outputs": [
    {
     "name": "stdout",
     "output_type": "stream",
     "text": [
      "3.3333333333333335 hours\n"
     ]
    }
   ],
   "source": [
    "#This will convert 200 minutes to hours by dividing by 60\n",
    "a = 200/60\n",
    "print(a, \"hours\")"
   ]
  },
  {
   "cell_type": "markdown",
   "id": "8bdcdcf3",
   "metadata": {},
   "source": [
    "**Objectives:**\n",
    "\n",
    "- Understand the importance of data science in various industries.\n",
    "- List popular languages for Data Science.\n",
    "- Explore common data science libraries in Python.\n",
    "- Learn about development environment tools in data science."
   ]
  },
  {
   "cell_type": "markdown",
   "id": "c4b3e581",
   "metadata": {},
   "source": [
    "## Author\n",
    "Alex Newton"
   ]
  }
 ],
 "metadata": {
  "kernelspec": {
   "display_name": "Python 3 (ipykernel)",
   "language": "python",
   "name": "python3"
  },
  "language_info": {
   "codemirror_mode": {
    "name": "ipython",
    "version": 3
   },
   "file_extension": ".py",
   "mimetype": "text/x-python",
   "name": "python",
   "nbconvert_exporter": "python",
   "pygments_lexer": "ipython3",
   "version": "3.9.12"
  }
 },
 "nbformat": 4,
 "nbformat_minor": 5
}
